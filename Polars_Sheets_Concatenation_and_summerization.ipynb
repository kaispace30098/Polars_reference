{
  "nbformat": 4,
  "nbformat_minor": 0,
  "metadata": {
    "colab": {
      "provenance": [],
      "authorship_tag": "ABX9TyPRw+HlehzUWeRi3Udjd+5n",
      "include_colab_link": true
    },
    "kernelspec": {
      "name": "python3",
      "display_name": "Python 3"
    },
    "language_info": {
      "name": "python"
    }
  },
  "cells": [
    {
      "cell_type": "markdown",
      "metadata": {
        "id": "view-in-github",
        "colab_type": "text"
      },
      "source": [
        "<a href=\"https://colab.research.google.com/github/kaispace30098/Polars_reference/blob/main/Polars_Sheets_Concatenation_and_summerization.ipynb\" target=\"_parent\"><img src=\"https://colab.research.google.com/assets/colab-badge.svg\" alt=\"Open In Colab\"/></a>"
      ]
    },
    {
      "cell_type": "code",
      "execution_count": 1,
      "metadata": {
        "colab": {
          "base_uri": "https://localhost:8080/"
        },
        "id": "Gb41qXpl7mjW",
        "outputId": "b02ee7d0-2994-47d3-ffe3-1170f0f1c9a8"
      },
      "outputs": [
        {
          "output_type": "stream",
          "name": "stdout",
          "text": [
            "Looking in indexes: https://pypi.org/simple, https://us-python.pkg.dev/colab-wheels/public/simple/\n",
            "Requirement already satisfied: polars in /usr/local/lib/python3.9/dist-packages (0.16.12)\n",
            "Requirement already satisfied: typing_extensions>=4.0.1 in /usr/local/lib/python3.9/dist-packages (from polars) (4.5.0)\n"
          ]
        }
      ],
      "source": [
        "!pip install polars\n",
        "import polars as pl\n",
        "import numpy as np\n",
        "import matplotlib.pyplot as plt\n",
        "from google.colab import files"
      ]
    },
    {
      "cell_type": "code",
      "source": [
        "sales1 = pl.read_csv('/content/qb sales one year.csv',ignore_errors=True)\n",
        "sales2 = pl.read_csv('/content/shipstation 1 year.csv')\n",
        "sales3 = pl.read_csv('/content/amazon seller central 1 year.csv',ignore_errors=True)"
      ],
      "metadata": {
        "id": "MsLGJ6a07xdn"
      },
      "execution_count": 2,
      "outputs": []
    },
    {
      "cell_type": "code",
      "source": [
        "print(sales1.head(10))"
      ],
      "metadata": {
        "colab": {
          "base_uri": "https://localhost:8080/"
        },
        "id": "2u2oMYLu1kiK",
        "outputId": "f00c0d0e-4f14-4a7c-808b-5604e1159dc2"
      },
      "execution_count": 3,
      "outputs": [
        {
          "output_type": "stream",
          "name": "stdout",
          "text": [
            "shape: (10, 10)\n",
            "┌──────────────┬─────────┬───────────┬────────┬─────┬─────┬─────────────┬────────┬───────────┐\n",
            "│ SKU          ┆ Type    ┆ Date      ┆ Num    ┆ ... ┆ Qty ┆ Sales Price ┆ Amount ┆ Balance   │\n",
            "│ ---          ┆ ---     ┆ ---       ┆ ---    ┆     ┆ --- ┆ ---         ┆ ---    ┆ ---       │\n",
            "│ str          ┆ str     ┆ str       ┆ i64    ┆     ┆ str ┆ f64         ┆ str    ┆ str       │\n",
            "╞══════════════╪═════════╪═══════════╪════════╪═════╪═════╪═════════════╪════════╪═══════════╡\n",
            "│ FC68101      ┆ Invoice ┆ 4/4/2022  ┆ 340404 ┆ ... ┆ 0   ┆ 12.54       ┆ 0      ┆ 0         │\n",
            "│ FC68103      ┆ Invoice ┆ 1/30/2023 ┆ 356672 ┆ ... ┆ 1   ┆ 5.0         ┆ 5      ┆ 867       │\n",
            "│ FC68103      ┆ Invoice ┆ 2/10/2023 ┆ 357042 ┆ ... ┆ 24  ┆ 4.0         ┆ 96     ┆ 963       │\n",
            "│ FC68103      ┆ Invoice ┆ 2/10/2023 ┆ 357042 ┆ ... ┆ 24  ┆ 4.0         ┆ 96     ┆ 1,059.00  │\n",
            "│ ...          ┆ ...     ┆ ...       ┆ ...    ┆ ... ┆ ... ┆ ...         ┆ ...    ┆ ...       │\n",
            "│ FC68104      ┆ Invoice ┆ 1/30/2023 ┆ 356672 ┆ ... ┆ 5   ┆ 5.0         ┆ 25     ┆ 361.37    │\n",
            "│ FC68104      ┆ Invoice ┆ 2/10/2023 ┆ 357042 ┆ ... ┆ 60  ┆ 4.0         ┆ 240    ┆ 601.37    │\n",
            "│ FC68104      ┆ Invoice ┆ 2/10/2023 ┆ 357042 ┆ ... ┆ 24  ┆ 4.0         ┆ 96     ┆ 697.37    │\n",
            "│ SL1090-Black ┆ Invoice ┆ 3/28/2022 ┆ 340119 ┆ ... ┆ 300 ┆ 3.29        ┆ 987    ┆ 17,449.80 │\n",
            "└──────────────┴─────────┴───────────┴────────┴─────┴─────┴─────────────┴────────┴───────────┘\n"
          ]
        }
      ]
    },
    {
      "cell_type": "code",
      "source": [
        "sales1.head()\n",
        "\n",
        "def polars_astype(df):\n",
        "\n",
        "  df=df.with_column(\n",
        "      pl.col('Amount').str.replace(r',', '')\n",
        "  )\n",
        "  df=df.with_column(pl.col('Amount').cast(pl.Float64, strict=False).alias('Amount_1'))\n",
        "  return df\n",
        "\n",
        "sales1=polars_astype(sales1)\n",
        "print(sales1.head(10))"
      ],
      "metadata": {
        "colab": {
          "base_uri": "https://localhost:8080/"
        },
        "id": "y2lzq0_eC_mL",
        "outputId": "3344a8b5-d7cf-4211-eb71-59ab742a2a78"
      },
      "execution_count": 4,
      "outputs": [
        {
          "output_type": "stream",
          "name": "stdout",
          "text": [
            "shape: (10, 11)\n",
            "┌──────────────┬─────────┬───────────┬────────┬─────┬─────────────┬────────┬───────────┬──────────┐\n",
            "│ SKU          ┆ Type    ┆ Date      ┆ Num    ┆ ... ┆ Sales Price ┆ Amount ┆ Balance   ┆ Amount_1 │\n",
            "│ ---          ┆ ---     ┆ ---       ┆ ---    ┆     ┆ ---         ┆ ---    ┆ ---       ┆ ---      │\n",
            "│ str          ┆ str     ┆ str       ┆ i64    ┆     ┆ f64         ┆ str    ┆ str       ┆ f64      │\n",
            "╞══════════════╪═════════╪═══════════╪════════╪═════╪═════════════╪════════╪═══════════╪══════════╡\n",
            "│ FC68101      ┆ Invoice ┆ 4/4/2022  ┆ 340404 ┆ ... ┆ 12.54       ┆ 0      ┆ 0         ┆ 0.0      │\n",
            "│ FC68103      ┆ Invoice ┆ 1/30/2023 ┆ 356672 ┆ ... ┆ 5.0         ┆ 5      ┆ 867       ┆ 5.0      │\n",
            "│ FC68103      ┆ Invoice ┆ 2/10/2023 ┆ 357042 ┆ ... ┆ 4.0         ┆ 96     ┆ 963       ┆ 96.0     │\n",
            "│ FC68103      ┆ Invoice ┆ 2/10/2023 ┆ 357042 ┆ ... ┆ 4.0         ┆ 96     ┆ 1,059.00  ┆ 96.0     │\n",
            "│ ...          ┆ ...     ┆ ...       ┆ ...    ┆ ... ┆ ...         ┆ ...    ┆ ...       ┆ ...      │\n",
            "│ FC68104      ┆ Invoice ┆ 1/30/2023 ┆ 356672 ┆ ... ┆ 5.0         ┆ 25     ┆ 361.37    ┆ 25.0     │\n",
            "│ FC68104      ┆ Invoice ┆ 2/10/2023 ┆ 357042 ┆ ... ┆ 4.0         ┆ 240    ┆ 601.37    ┆ 240.0    │\n",
            "│ FC68104      ┆ Invoice ┆ 2/10/2023 ┆ 357042 ┆ ... ┆ 4.0         ┆ 96     ┆ 697.37    ┆ 96.0     │\n",
            "│ SL1090-Black ┆ Invoice ┆ 3/28/2022 ┆ 340119 ┆ ... ┆ 3.29        ┆ 987    ┆ 17,449.80 ┆ 987.0    │\n",
            "└──────────────┴─────────┴───────────┴────────┴─────┴─────────────┴────────┴───────────┴──────────┘\n"
          ]
        },
        {
          "output_type": "stream",
          "name": "stderr",
          "text": [
            "<ipython-input-4-b475193e744a>:5: DeprecationWarning: `DataFrame.with_column` has been renamed; this redirect is temporary, please use `.with_columns` instead\n",
            "  df=df.with_column(\n",
            "<ipython-input-4-b475193e744a>:8: DeprecationWarning: `DataFrame.with_column` has been renamed; this redirect is temporary, please use `.with_columns` instead\n",
            "  df=df.with_column(pl.col('Amount').cast(pl.Float64, strict=False).alias('Amount_1'))\n"
          ]
        }
      ]
    },
    {
      "cell_type": "code",
      "source": [
        "print(sales2.head())"
      ],
      "metadata": {
        "colab": {
          "base_uri": "https://localhost:8080/"
        },
        "id": "_l_ftdAeDxC-",
        "outputId": "9ce4d0b3-1429-4c28-f08e-774e44929f0f"
      },
      "execution_count": 5,
      "outputs": [
        {
          "output_type": "stream",
          "name": "stdout",
          "text": [
            "shape: (5, 11)\n",
            "┌───────────┬──────────┬─────────┬────────────┬─────┬────────────┬────────────┬──────────┬─────────┐\n",
            "│ ShipDate  ┆ Quantity ┆ SKU     ┆ StoreName  ┆ ... ┆ Name       ┆ TrackingNu ┆ avg cost ┆ sales   │\n",
            "│ ---       ┆ ---      ┆ ---     ┆ ---        ┆     ┆ ---        ┆ mber       ┆ ---      ┆ ---     │\n",
            "│ str       ┆ i64      ┆ str     ┆ str        ┆     ┆ str        ┆ ---        ┆ f64      ┆ f64     │\n",
            "│           ┆          ┆         ┆            ┆     ┆            ┆ str        ┆          ┆         │\n",
            "╞═══════════╪══════════╪═════════╪════════════╪═════╪════════════╪════════════╪══════════╪═════════╡\n",
            "│ 3/15/2022 ┆ 1        ┆ GW22991 ┆ GoWISE     ┆ ... ┆ Rebeca     ┆ 2.71E+11   ┆ 53.75    ┆ 72.5625 │\n",
            "│           ┆          ┆         ┆ Shopify    ┆     ┆ Munoz      ┆            ┆          ┆         │\n",
            "│           ┆          ┆         ┆            ┆     ┆ Munoz      ┆            ┆          ┆         │\n",
            "│ 3/24/2022 ┆ 1        ┆ GW22991 ┆ GoWISE     ┆ ... ┆ Sigfredo   ┆ 2.71E+11   ┆ 53.75    ┆ 72.5625 │\n",
            "│           ┆          ┆         ┆ Shopify    ┆     ┆ Martinez   ┆            ┆          ┆         │\n",
            "│ 3/25/2022 ┆ 1        ┆ GW22991 ┆ Manual     ┆ ... ┆ REBECA     ┆ 2.71E+11   ┆ 53.75    ┆ 72.5625 │\n",
            "│           ┆          ┆         ┆ Orders     ┆     ┆ MUNOZ      ┆            ┆          ┆         │\n",
            "│ 3/28/2022 ┆ 1        ┆ GW22991 ┆ GoWISE     ┆ ... ┆ Jeffrey    ┆ 2.71E+11   ┆ 53.75    ┆ 72.5625 │\n",
            "│           ┆          ┆         ┆ Shopify    ┆     ┆ Rogers     ┆            ┆          ┆         │\n",
            "│ 4/11/2022 ┆ 1        ┆ GW22991 ┆ Manual     ┆ ... ┆ Charlotte  ┆ 2.72E+11   ┆ 53.75    ┆ 72.5625 │\n",
            "│           ┆          ┆         ┆ Orders     ┆     ┆ Becker     ┆            ┆          ┆         │\n",
            "└───────────┴──────────┴─────────┴────────────┴─────┴────────────┴────────────┴──────────┴─────────┘\n"
          ]
        }
      ]
    },
    {
      "cell_type": "code",
      "source": [
        "print(sales3.head())"
      ],
      "metadata": {
        "colab": {
          "base_uri": "https://localhost:8080/"
        },
        "id": "aIbnzZAh1qxF",
        "outputId": "a9541e16-fc21-4512-a192-4b20289154bc"
      },
      "execution_count": 6,
      "outputs": [
        {
          "output_type": "stream",
          "name": "stdout",
          "text": [
            "shape: (5, 14)\n",
            "┌──────────┬─────────┬──────────┬─────────┬─────┬───────────┬────────────┬────────────┬────────────┐\n",
            "│ Date     ┆ SKU     ┆ FNSKU    ┆ ASIN    ┆ ... ┆ Gift      ┆ Shipment   ┆ Shipment   ┆ Shipment   │\n",
            "│ ---      ┆ ---     ┆ ---      ┆ ---     ┆     ┆ Amount    ┆ To City    ┆ To State   ┆ To Postal  │\n",
            "│ str      ┆ str     ┆ str      ┆ str     ┆     ┆ ---       ┆ ---        ┆ ---        ┆ Code       │\n",
            "│          ┆         ┆          ┆         ┆     ┆ i64       ┆ str        ┆ str        ┆ ---        │\n",
            "│          ┆         ┆          ┆         ┆     ┆           ┆            ┆            ┆ str        │\n",
            "╞══════════╪═════════╪══════════╪═════════╪═════╪═══════════╪════════════╪════════════╪════════════╡\n",
            "│ 2022-09- ┆ GWA0011 ┆ B08N1H98 ┆ B08N1H9 ┆ ... ┆ 0         ┆ L'Orignal  ┆ Ontario    ┆ K0B 1K0    │\n",
            "│ 30       ┆         ┆ F5       ┆ 8F5     ┆     ┆           ┆            ┆            ┆            │\n",
            "│ 2022-11- ┆ GWA0007 ┆ B07DBNSC ┆ B07DBNS ┆ ... ┆ 0         ┆ Grimsby    ┆ Ontario    ┆ L3M 4C8    │\n",
            "│ 03       ┆         ┆ FW       ┆ CFW     ┆     ┆           ┆            ┆            ┆            │\n",
            "│ 2022-11- ┆ GWA0007 ┆ B07DBNSC ┆ B07DBNS ┆ ... ┆ 0         ┆ Forestvill ┆ Québec     ┆ G0T1E0     │\n",
            "│ 07       ┆         ┆ FW       ┆ CFW     ┆     ┆           ┆ e          ┆            ┆            │\n",
            "│ 2022-11- ┆ GWA0007 ┆ B07DBNSC ┆ B07DBNS ┆ ... ┆ 0         ┆ Grimsby    ┆ Ontario    ┆ L3M 4C8    │\n",
            "│ 09       ┆         ┆ FW       ┆ CFW     ┆     ┆           ┆            ┆            ┆            │\n",
            "│ 2022-08- ┆ GWA0011 ┆ B08N1H98 ┆ B08N1H9 ┆ ... ┆ 0         ┆ Regina     ┆ Saskatchew ┆ S4N 2R7    │\n",
            "│ 09       ┆         ┆ F5       ┆ 8F5     ┆     ┆           ┆            ┆ an         ┆            │\n",
            "└──────────┴─────────┴──────────┴─────────┴─────┴───────────┴────────────┴────────────┴────────────┘\n"
          ]
        }
      ]
    },
    {
      "cell_type": "code",
      "source": [
        "sku_amount1 = sales1.select([\"SKU\", \"Amount_1\"])\n",
        "sku_amount2 = sales2.select([\"SKU\", \"sales\"])\n",
        "sku_amount3 = sales3.select([\"SKU\", \"Product Amount\"])\n",
        "sku_amount1 = sku_amount1.with_column(pl.col('Amount_1').alias('sales'))\n",
        "sku_amount1=sku_amount1.drop(['Amount_1'])\n",
        "sku_amount3 = sku_amount3.with_column(pl.col('Product Amount').alias('sales'))\n",
        "sku_amount3=sku_amount3.drop(['Product Amount'])"
      ],
      "metadata": {
        "colab": {
          "base_uri": "https://localhost:8080/"
        },
        "id": "7Yw0-jouE_Xf",
        "outputId": "4acbcaf4-8ef9-409c-c0f0-f74222e0c963"
      },
      "execution_count": 7,
      "outputs": [
        {
          "output_type": "stream",
          "name": "stderr",
          "text": [
            "<ipython-input-7-d910bf5e356e>:4: DeprecationWarning: `DataFrame.with_column` has been renamed; this redirect is temporary, please use `.with_columns` instead\n",
            "  sku_amount1 = sku_amount1.with_column(pl.col('Amount_1').alias('sales'))\n",
            "<ipython-input-7-d910bf5e356e>:6: DeprecationWarning: `DataFrame.with_column` has been renamed; this redirect is temporary, please use `.with_columns` instead\n",
            "  sku_amount3 = sku_amount3.with_column(pl.col('Product Amount').alias('sales'))\n"
          ]
        }
      ]
    },
    {
      "cell_type": "code",
      "source": [
        "combined = pl.concat([sku_amount1, sku_amount2, sku_amount3],  rechunk=True)\n"
      ],
      "metadata": {
        "id": "SAM9NsYrFPUY"
      },
      "execution_count": 8,
      "outputs": []
    },
    {
      "cell_type": "code",
      "source": [
        "df=combined.groupby('SKU').agg(pl.sum('sales'))\n",
        "df.write_csv('polardataframeoutput.csv')\n",
        "files.download('polardataframeoutput.csv')"
      ],
      "metadata": {
        "colab": {
          "base_uri": "https://localhost:8080/",
          "height": 17
        },
        "id": "gkDiDxdzkVDm",
        "outputId": "c1e32202-fa66-491a-c4c6-0a3f9144d762"
      },
      "execution_count": 9,
      "outputs": [
        {
          "output_type": "display_data",
          "data": {
            "text/plain": [
              "<IPython.core.display.Javascript object>"
            ],
            "application/javascript": [
              "\n",
              "    async function download(id, filename, size) {\n",
              "      if (!google.colab.kernel.accessAllowed) {\n",
              "        return;\n",
              "      }\n",
              "      const div = document.createElement('div');\n",
              "      const label = document.createElement('label');\n",
              "      label.textContent = `Downloading \"${filename}\": `;\n",
              "      div.appendChild(label);\n",
              "      const progress = document.createElement('progress');\n",
              "      progress.max = size;\n",
              "      div.appendChild(progress);\n",
              "      document.body.appendChild(div);\n",
              "\n",
              "      const buffers = [];\n",
              "      let downloaded = 0;\n",
              "\n",
              "      const channel = await google.colab.kernel.comms.open(id);\n",
              "      // Send a message to notify the kernel that we're ready.\n",
              "      channel.send({})\n",
              "\n",
              "      for await (const message of channel.messages) {\n",
              "        // Send a message to notify the kernel that we're ready.\n",
              "        channel.send({})\n",
              "        if (message.buffers) {\n",
              "          for (const buffer of message.buffers) {\n",
              "            buffers.push(buffer);\n",
              "            downloaded += buffer.byteLength;\n",
              "            progress.value = downloaded;\n",
              "          }\n",
              "        }\n",
              "      }\n",
              "      const blob = new Blob(buffers, {type: 'application/binary'});\n",
              "      const a = document.createElement('a');\n",
              "      a.href = window.URL.createObjectURL(blob);\n",
              "      a.download = filename;\n",
              "      div.appendChild(a);\n",
              "      a.click();\n",
              "      div.remove();\n",
              "    }\n",
              "  "
            ]
          },
          "metadata": {}
        },
        {
          "output_type": "display_data",
          "data": {
            "text/plain": [
              "<IPython.core.display.Javascript object>"
            ],
            "application/javascript": [
              "download(\"download_71856599-84a2-4905-91ea-c4dda8cb314b\", \"polardataframeoutput.csv\", 10504)"
            ]
          },
          "metadata": {}
        }
      ]
    },
    {
      "cell_type": "code",
      "source": [
        "#do anything with column like change name, or vectorization tasks like remove 'str' need to call: df.with_columns()\n",
        "#create a new column by modifying an existing column:  df.with_columns(.alias('new col'))\n",
        "#df.groupby('col_groupby')['Col_agg'].sum()===>df.groupby('col_groupby').agg(pl.sum('Col_agg'))\n",
        "#Concat to union three together:combined = pl.concat([sku_amount1, sku_amount2, sku_amount3],  rechunk=True)"
      ],
      "metadata": {
        "id": "va2O2V0j2Ku_"
      },
      "execution_count": 21,
      "outputs": []
    }
  ]
}